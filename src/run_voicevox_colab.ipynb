{
  "cells": [
    {
      "cell_type": "markdown",
      "source": [
        "# Run Voicevox using Google Colab's GPU\n",
        "\n",
        "To enable GPU in this notebook, select Runtime -> Change runtime type in the Menu bar. Under Hardware Accelerator, select GPU.\n",
        "\n",
        "Then, go to the Ngrok Auth Token variables [cell](#scrollTo=HwtPbhg0X997&line=2&uniqifier=1) and update it with your ngrok authentication token.\n",
        "\n",
        "To run Voicevox, select Runtime -> Run all. Go to this [cell](#scrollTo=rfvusCdM2HwL&line=6&uniqifier=1) and read the instructions on how to update your `.env` file to use Voicevox running in this notebook."
      ],
      "metadata": {
        "id": "Y95LvKkhYmsF"
      }
    },
    {
      "cell_type": "markdown",
      "metadata": {
        "id": "LwKDmIISYpJN"
      },
      "source": [
        "## Download Voicevox Engine (Linux GPU version)\n",
        "\n",
        "Update VOICEVOX_ENGINE_ZIP to the latest version if needed by copying the `Linux（GPU/CUDA版)` link [here](https://github.com/VOICEVOX/voicevox_engine/releases)."
      ]
    },
    {
      "cell_type": "code",
      "execution_count": null,
      "metadata": {
        "id": "nAOSarJw8CyQ"
      },
      "outputs": [],
      "source": [
        "VOICEVOX_ENGINE_ZIP = 'voicevox_engine-linux-nvidia-0.14.2.7z.001'"
      ]
    },
    {
      "cell_type": "code",
      "execution_count": null,
      "metadata": {
        "id": "KqxleuB1gehz"
      },
      "outputs": [],
      "source": [
        "!wget https://github.com/VOICEVOX/voicevox_engine/releases/download/0.14.2/$VOICEVOX_ENGINE_ZIP -q\n",
        "!7z x $VOICEVOX_ENGINE_ZIP\n",
        "!rm $VOICEVOX_ENGINE_ZIP"
      ]
    },
    {
      "cell_type": "code",
      "execution_count": null,
      "metadata": {
        "id": "IzXXPHS1hJsi"
      },
      "outputs": [],
      "source": [
        "!git clone https://github.com/VOICEVOX/voicevox_engine -q"
      ]
    },
    {
      "cell_type": "code",
      "execution_count": null,
      "metadata": {
        "id": "n-kGmM71SSu3"
      },
      "outputs": [],
      "source": [
        "!pip install -r voicevox_engine/requirements.txt -q\n",
        "!pip install numpy==1.22 -q"
      ]
    },
    {
      "cell_type": "markdown",
      "source": [],
      "metadata": {
        "id": "PEKxrlXc16eT"
      }
    },
    {
      "cell_type": "markdown",
      "source": [
        "## Download Ngrok executable"
      ],
      "metadata": {
        "id": "CzjcCGXCqR0L"
      }
    },
    {
      "cell_type": "code",
      "source": [
        "!wget https://bin.equinox.io/c/bNyj1mQVY4c/ngrok-v3-stable-linux-amd64.tgz\n",
        "!tar zxvf ngrok-v3-stable-linux-amd64.tgz\n",
        "!apt-get install jq"
      ],
      "metadata": {
        "id": "VERtmt-yWPMY"
      },
      "execution_count": null,
      "outputs": []
    },
    {
      "cell_type": "markdown",
      "source": [
        "## NGROK Auth Token\n",
        "\n",
        "Get your ngrok authentication token by signing up [here](https://dashboard.ngrok.com/signup). After signing up, copy your auth token [here](https://dashboard.ngrok.com/get-started/your-authtoken) and update the \\<NGROK_AUTH_TOKEN\\> variable with your token."
      ],
      "metadata": {
        "id": "cdHRi7DvW-gO"
      }
    },
    {
      "cell_type": "code",
      "source": [
        "NGROK_AUTH_TOKEN = <NGROK_AUTH_TOKEN>\n",
        "!chmod +x ./ngrok\n",
        "!./ngrok config add-authtoken $NGROK_AUTH_TOKEN"
      ],
      "metadata": {
        "id": "HwtPbhg0X997"
      },
      "execution_count": null,
      "outputs": []
    },
    {
      "cell_type": "markdown",
      "source": [
        "## Run with GPU\n",
        "\n",
        "After running, copy the public url provided by ngrok in the output of the cell below and update VOICEVOX_BASE_URL in your `.env` file.\n",
        "\n",
        "```\n",
        "VOICEVOX_BASE_URL=<NGROK_PUBLIC_URL>\n",
        "```\n",
        "\n",
        "This url will change every time you rerun this cell, so remember to update your .env file when that happens."
      ],
      "metadata": {
        "id": "rfvusCdM2HwL"
      }
    },
    {
      "cell_type": "code",
      "execution_count": null,
      "metadata": {
        "id": "sf3d431fKXoL"
      },
      "outputs": [],
      "source": [
        "!python voicevox_engine/run.py --voicevox_dir='linux-nvidia' --use_gpu --allow_origin * --cors_policy_mode all > /dev/null 2>&1 & ./ngrok http 50021 & sleep 1 && curl -s http://localhost:4040/api/tunnels | jq -r .tunnels[0].public_url"
      ]
    }
  ],
  "metadata": {
    "colab": {
      "provenance": []
    },
    "gpuClass": "standard",
    "kernelspec": {
      "display_name": "Python 3",
      "name": "python3"
    },
    "language_info": {
      "name": "python"
    }
  },
  "nbformat": 4,
  "nbformat_minor": 0
}